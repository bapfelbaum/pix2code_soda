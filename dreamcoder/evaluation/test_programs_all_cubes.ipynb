{
 "cells": [
  {
   "cell_type": "code",
   "execution_count": 2,
   "metadata": {},
   "outputs": [],
   "source": [
    "try:\n",
    "    import binutil\n",
    "except ModuleNotFoundError:\n",
    "    import bin.binutil\n",
    "\n",
    "from dreamcoder.program import *\n",
    "from dreamcoder.domains.relation import *\n",
    "from dreamcoder.domains.relation.relation_primitives import *\n",
    "\n",
    "get_baseline_primitives()\n",
    "get_clevr_primitives()\n",
    "\n",
    "same_shape_program = Program.parse(\n",
    "    \"(lambda (#(lambda (#(lambda (lambda (eq? ($0 (car $1)) ($0 (car (cdr $1)))))) $0 (lambda (#(lambda (lambda (lambda (index (find $1 $2) (cdr $0))))) $0 2001 $0)))) $0))\"\n",
    ")"
   ]
  },
  {
   "cell_type": "code",
   "execution_count": 98,
   "metadata": {},
   "outputs": [
    {
     "name": "stdout",
     "output_type": "stream",
     "text": [
      "Number of all tasks:  1\n"
     ]
    }
   ],
   "source": [
    "# read txt file\n",
    "mode = \"test\"\n",
    "split = \"all_metal_one_gray_10\"  # \"all_cubes_8\"  \"all_cubes_5\"\n",
    "same_support = True\n",
    "seed = 1\n",
    "\n",
    "domain = \"clevr\"\n",
    "data_folder = \"curi_dc_test_tasks\"\n",
    "\n",
    "file = f\"../consoleOutputs/{domain}/all_metal_one_gray/eval/{seed}/{mode}_programs.out\"\n",
    "\n",
    "with open(file, \"r\") as f:\n",
    "    data = f.read()\n",
    "\n",
    "if mode == \"train\":\n",
    "    data = data.split(\"\\n\")\n",
    "    data = [line for line in data if line != \"\"]\n",
    "    task_programs = {}\n",
    "    task_flag = False\n",
    "    for line in data:\n",
    "        if task_flag:\n",
    "            program = line.split(\"\\t\")[1]\n",
    "            task_programs[task_id] = program\n",
    "            task_flag = False\n",
    "        if \"task\" in line:\n",
    "            task_flag = True\n",
    "            task_id = line\n",
    "else:\n",
    "    data = data.split(\"\\n\")\n",
    "    NUMBER_TEST_TASKS = len(data)\n",
    "    print(\"Number of all tasks: \", len(data))\n",
    "    task_programs = {}\n",
    "    for task in data:\n",
    "        if not \"HIT\" in task:\n",
    "            continue\n",
    "        task = task.split(\"w/\")\n",
    "        name = task[0].replace(\" \", \"\")\n",
    "        name = name.replace(\"HIT\", \"\")\n",
    "        program = task[1].split(\";\")[0][1:]\n",
    "        task_programs[name] = program"
   ]
  },
  {
   "cell_type": "code",
   "execution_count": 99,
   "metadata": {},
   "outputs": [
    {
     "data": {
      "text/plain": [
       "{'task_4919': '(lambda (and (not (#(lambda (exists (lambda (#(lambda (lambda (eq? $0 (index 7 $1)))) $0 0)) $0)) $0)) (not (#(lambda (lambda (lambda (fold (cdr $2) (#(lambda (lambda (#(#(#(lambda (lambda (forall (lambda (eq? $1 (index $2 $0)))))) 5) 2) (if (#(#(lambda (lambda (forall (lambda (eq? $1 (index $2 $0)))))) 6 0) (#(lambda (cons (car $0) empty)) $1)) (cdr $1) $0)))) $2 $1) (lambda (lambda (#(lambda (#(lambda (lambda (lambda (and $2 (not (or (#(#(lambda (lambda (forall (lambda (eq? $1 (index $2 $0)))))) 6 1) $0) ($1 (#(lambda (cons (car $0) empty)) $0)))))))) (not (#(#(lambda (lambda (forall (lambda (eq? $1 (index $2 $0)))))) 6 0) $0)))) $4 (lambda $1) $2))))))) $0 $0 (#(lambda (cons (car $0) empty)) (if (#(lambda (#(lambda (lambda (eq? $0 (index 7 $1)))) $0 (index 3 (cdr $0)))) (car $0)) $0 (cdr $0))))))) '}"
      ]
     },
     "execution_count": 99,
     "metadata": {},
     "output_type": "execute_result"
    }
   ],
   "source": [
    "task_programs"
   ]
  },
  {
   "cell_type": "code",
   "execution_count": 100,
   "metadata": {},
   "outputs": [
    {
     "name": "stderr",
     "output_type": "stream",
     "text": [
      "  0%|          | 0/1 [00:00<?, ?it/s]"
     ]
    },
    {
     "name": "stderr",
     "output_type": "stream",
     "text": [
      "100%|██████████| 1/1 [00:05<00:00,  5.99s/it]\n"
     ]
    },
    {
     "data": {
      "text/html": [
       "<div>\n",
       "<style scoped>\n",
       "    .dataframe tbody tr th:only-of-type {\n",
       "        vertical-align: middle;\n",
       "    }\n",
       "\n",
       "    .dataframe tbody tr th {\n",
       "        vertical-align: top;\n",
       "    }\n",
       "\n",
       "    .dataframe thead th {\n",
       "        text-align: right;\n",
       "    }\n",
       "</style>\n",
       "<table border=\"1\" class=\"dataframe\">\n",
       "  <thead>\n",
       "    <tr style=\"text-align: right;\">\n",
       "      <th></th>\n",
       "      <th>task_name</th>\n",
       "      <th>program</th>\n",
       "      <th>TP</th>\n",
       "      <th>FP</th>\n",
       "      <th>TN</th>\n",
       "      <th>FN</th>\n",
       "    </tr>\n",
       "  </thead>\n",
       "  <tbody>\n",
       "    <tr>\n",
       "      <th>0</th>\n",
       "      <td>task_4919</td>\n",
       "      <td>(lambda (and (not (#(lambda (exists (lambda (#...</td>\n",
       "      <td>35</td>\n",
       "      <td>0</td>\n",
       "      <td>100</td>\n",
       "      <td>65</td>\n",
       "    </tr>\n",
       "  </tbody>\n",
       "</table>\n",
       "</div>"
      ],
      "text/plain": [
       "   task_name                                            program  TP  FP   TN  \\\n",
       "0  task_4919  (lambda (and (not (#(lambda (exists (lambda (#...  35   0  100   \n",
       "\n",
       "   FN  \n",
       "0  65  "
      ]
     },
     "execution_count": 100,
     "metadata": {},
     "output_type": "execute_result"
    }
   ],
   "source": [
    "import pandas as pd\n",
    "import json\n",
    "import os\n",
    "from tqdm import tqdm\n",
    "\n",
    "# parse inputs from model_results_eval\n",
    "\n",
    "path = f\"../data/{data_folder}/{split}/query/\"\n",
    "json_files = [f.path for f in os.scandir(path) if f.path.endswith(\".json\")]\n",
    "\n",
    "task_results = []\n",
    "\n",
    "# iterate over tasks\n",
    "for task_file in tqdm(json_files):\n",
    "    task_name = task_file.split(\"/\")[-1][:-5]\n",
    "    # task_number = task_name.split(\"_\")[-1]\n",
    "    # check if program exists for task\n",
    "    if task_name in task_programs.keys():\n",
    "        f = open(task_file)\n",
    "        examples = json.load(f)\n",
    "\n",
    "        parsed_examples = []\n",
    "\n",
    "        true_positives = 0\n",
    "        false_positives = 0\n",
    "        true_negatives = 0\n",
    "        false_negatives = 0\n",
    "\n",
    "        # print(len(examples))\n",
    "\n",
    "        for example in examples:\n",
    "            input = example[\"input\"]\n",
    "            output = example[\"output\"]\n",
    "\n",
    "            # execute program for input\n",
    "            program = task_programs[task_name]\n",
    "            program = Program.parse(program)\n",
    "            try:\n",
    "                program_output = program.evaluate([])(input)\n",
    "            except:\n",
    "                print(\"some issue with program \", program)\n",
    "                continue\n",
    "\n",
    "            # categorize prediction\n",
    "            if output:\n",
    "                if program_output:\n",
    "                    true_positives += 1\n",
    "                else:\n",
    "                    false_negatives += 1\n",
    "            else:\n",
    "                if program_output:\n",
    "                    false_positives += 1\n",
    "                else:\n",
    "                    true_negatives += 1\n",
    "\n",
    "        # collect results\n",
    "        results = {\n",
    "            \"task_name\": task_name,\n",
    "            \"program\": task_programs[task_name],\n",
    "            \"TP\": true_positives,\n",
    "            \"FP\": false_positives,\n",
    "            \"TN\": true_negatives,\n",
    "            \"FN\": false_negatives,\n",
    "        }\n",
    "        task_results.append(results)\n",
    "        # print(results)\n",
    "    else:\n",
    "        continue\n",
    "        results = {\"task_name\": task_name, \"TP\": 0, \"FP\": 0, \"TN\": 0, \"FN\": 0}\n",
    "        task_results.append(results)\n",
    "\n",
    "results_df = pd.DataFrame(task_results)\n",
    "results_df"
   ]
  },
  {
   "cell_type": "code",
   "execution_count": 101,
   "metadata": {},
   "outputs": [
    {
     "data": {
      "text/html": [
       "<div>\n",
       "<style scoped>\n",
       "    .dataframe tbody tr th:only-of-type {\n",
       "        vertical-align: middle;\n",
       "    }\n",
       "\n",
       "    .dataframe tbody tr th {\n",
       "        vertical-align: top;\n",
       "    }\n",
       "\n",
       "    .dataframe thead th {\n",
       "        text-align: right;\n",
       "    }\n",
       "</style>\n",
       "<table border=\"1\" class=\"dataframe\">\n",
       "  <thead>\n",
       "    <tr style=\"text-align: right;\">\n",
       "      <th></th>\n",
       "      <th>task_name</th>\n",
       "      <th>program</th>\n",
       "      <th>TP</th>\n",
       "      <th>FP</th>\n",
       "      <th>TN</th>\n",
       "      <th>FN</th>\n",
       "    </tr>\n",
       "  </thead>\n",
       "  <tbody>\n",
       "    <tr>\n",
       "      <th>0</th>\n",
       "      <td>task_4919</td>\n",
       "      <td>(lambda (and (not (#(lambda (exists (lambda (#...</td>\n",
       "      <td>35</td>\n",
       "      <td>0</td>\n",
       "      <td>100</td>\n",
       "      <td>65</td>\n",
       "    </tr>\n",
       "  </tbody>\n",
       "</table>\n",
       "</div>"
      ],
      "text/plain": [
       "   task_name                                            program  TP  FP   TN  \\\n",
       "0  task_4919  (lambda (and (not (#(lambda (exists (lambda (#...  35   0  100   \n",
       "\n",
       "   FN  \n",
       "0  65  "
      ]
     },
     "execution_count": 101,
     "metadata": {},
     "output_type": "execute_result"
    }
   ],
   "source": [
    "results_df"
   ]
  },
  {
   "cell_type": "code",
   "execution_count": 102,
   "metadata": {},
   "outputs": [
    {
     "data": {
      "text/plain": [
       "1"
      ]
     },
     "execution_count": 102,
     "metadata": {},
     "output_type": "execute_result"
    }
   ],
   "source": [
    "results_df[\"Accuracy\"] = (results_df[\"TP\"] + results_df[\"TN\"]) / (\n",
    "    results_df[\"TP\"] + results_df[\"TN\"] + results_df[\"FP\"] + results_df[\"FN\"]\n",
    ")\n",
    "results_df[\"CBA\"] = (\n",
    "    (results_df[\"TP\"] / (results_df[\"TP\"] + results_df[\"FN\"]))\n",
    "    + (results_df[\"TN\"] / (results_df[\"TN\"] + results_df[\"FP\"]))\n",
    ") / 2\n",
    "results_df[\"Precision\"] = results_df[\"TP\"] / (results_df[\"TP\"] + results_df[\"FP\"])\n",
    "# get number of tasks with accuracy not nan\n",
    "len(results_df[~results_df[\"Accuracy\"].isna()])"
   ]
  },
  {
   "cell_type": "code",
   "execution_count": 103,
   "metadata": {},
   "outputs": [
    {
     "data": {
      "text/html": [
       "<div>\n",
       "<style scoped>\n",
       "    .dataframe tbody tr th:only-of-type {\n",
       "        vertical-align: middle;\n",
       "    }\n",
       "\n",
       "    .dataframe tbody tr th {\n",
       "        vertical-align: top;\n",
       "    }\n",
       "\n",
       "    .dataframe thead th {\n",
       "        text-align: right;\n",
       "    }\n",
       "</style>\n",
       "<table border=\"1\" class=\"dataframe\">\n",
       "  <thead>\n",
       "    <tr style=\"text-align: right;\">\n",
       "      <th></th>\n",
       "      <th>task_name</th>\n",
       "      <th>program</th>\n",
       "      <th>TP</th>\n",
       "      <th>FP</th>\n",
       "      <th>TN</th>\n",
       "      <th>FN</th>\n",
       "      <th>Accuracy</th>\n",
       "      <th>CBA</th>\n",
       "      <th>Precision</th>\n",
       "    </tr>\n",
       "  </thead>\n",
       "  <tbody>\n",
       "    <tr>\n",
       "      <th>0</th>\n",
       "      <td>task_4919</td>\n",
       "      <td>(lambda (and (not (#(lambda (exists (lambda (#...</td>\n",
       "      <td>35</td>\n",
       "      <td>0</td>\n",
       "      <td>100</td>\n",
       "      <td>65</td>\n",
       "      <td>0.675</td>\n",
       "      <td>0.675</td>\n",
       "      <td>1.0</td>\n",
       "    </tr>\n",
       "  </tbody>\n",
       "</table>\n",
       "</div>"
      ],
      "text/plain": [
       "   task_name                                            program  TP  FP   TN  \\\n",
       "0  task_4919  (lambda (and (not (#(lambda (exists (lambda (#...  35   0  100   \n",
       "\n",
       "   FN  Accuracy    CBA  Precision  \n",
       "0  65     0.675  0.675        1.0  "
      ]
     },
     "execution_count": 103,
     "metadata": {},
     "output_type": "execute_result"
    }
   ],
   "source": [
    "results_df.sort_values(by=\"CBA\", ascending=True)"
   ]
  },
  {
   "cell_type": "code",
   "execution_count": 104,
   "metadata": {},
   "outputs": [
    {
     "name": "stdout",
     "output_type": "stream",
     "text": [
      "all_metal_one_gray_10   test\n",
      "0.675\n",
      "0.675\n",
      "1.0\n"
     ]
    }
   ],
   "source": [
    "print(split, \" \", mode)\n",
    "# get mean accuracy\n",
    "print(results_df[\"Accuracy\"].mean())\n",
    "# get mean CBA\n",
    "print(results_df[\"CBA\"].mean())\n",
    "# get precision\n",
    "print(results_df[\"Precision\"].mean())"
   ]
  },
  {
   "cell_type": "code",
   "execution_count": 105,
   "metadata": {},
   "outputs": [
    {
     "name": "stdout",
     "output_type": "stream",
     "text": [
      "all_metal_one_gray_10   test   1\n",
      "Class balanced accuracy (solved):  0.675\n",
      "Class balanced accuracy (all):  67.5\n"
     ]
    }
   ],
   "source": [
    "print(split, \" \", mode, \" \", seed)\n",
    "print(\"Class balanced accuracy (solved): \", results_df[\"CBA\"].mean())\n",
    "\n",
    "cba_50 = results_df[\"CBA\"].mean() * (len(results_df) / NUMBER_TEST_TASKS) + 0.5 * (\n",
    "    1 - (len(results_df) / NUMBER_TEST_TASKS)\n",
    ")\n",
    "# round to 2 decimal places\n",
    "cba_50 = round(cba_50 * 100, 2)\n",
    "print(\"Class balanced accuracy (all): \", cba_50)"
   ]
  },
  {
   "cell_type": "code",
   "execution_count": 97,
   "metadata": {},
   "outputs": [
    {
     "name": "stdout",
     "output_type": "stream",
     "text": [
      "saved results to  ../experimentOutputs/clevr/all_metal_one_gray_8_test.csv\n"
     ]
    }
   ],
   "source": [
    "# save results\n",
    "results_df.to_csv(f\"../experimentOutputs/{domain}/{split}_{mode}.csv\")\n",
    "print(\"saved results to \", f\"../experimentOutputs/{domain}/{split}_{mode}.csv\")"
   ]
  },
  {
   "cell_type": "code",
   "execution_count": 109,
   "metadata": {},
   "outputs": [
    {
     "name": "stdout",
     "output_type": "stream",
     "text": [
      "mean:  89.16666666666667\n",
      "std:  15.320646925708528\n",
      "89.17 $\\pm$ 15.32\n"
     ]
    }
   ],
   "source": [
    "import numpy as np\n",
    "\n",
    "# accs = [100, 67, 100]\n",
    "accs = [100, 67.5, 100]\n",
    "mean = np.mean(accs)\n",
    "std = np.std(accs)\n",
    "print(\"mean: \", mean)\n",
    "print(\"std: \", std)\n",
    "\n",
    "print(round(mean, 2), \"$\\pm$\", round(std, 2))"
   ]
  }
 ],
 "metadata": {
  "kernelspec": {
   "display_name": "base",
   "language": "python",
   "name": "python3"
  },
  "language_info": {
   "codemirror_mode": {
    "name": "ipython",
    "version": 3
   },
   "file_extension": ".py",
   "mimetype": "text/x-python",
   "name": "python",
   "nbconvert_exporter": "python",
   "pygments_lexer": "ipython3",
   "version": "3.8.10"
  },
  "orig_nbformat": 4
 },
 "nbformat": 4,
 "nbformat_minor": 2
}
