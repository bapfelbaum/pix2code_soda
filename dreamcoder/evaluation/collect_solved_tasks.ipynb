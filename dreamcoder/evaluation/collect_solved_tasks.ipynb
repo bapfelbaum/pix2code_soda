{
 "cells": [
  {
   "cell_type": "code",
   "execution_count": null,
   "metadata": {},
   "outputs": [],
   "source": [
    "import os\n",
    "import json\n",
    "\n",
    "split = \"length_threshold\"\n",
    "support_version = \"clevr\" \n",
    "seed = 2\n",
    "\n",
    "path = f\"workspace/consoleOutputs/{support_version}/{split}/eval/{seed}/\"\n",
    "target_path = (\n",
    "    f\"workspace/consoleOutputs/{support_version}/{split}/eval/{seed}/test_programs.out\"\n",
    ")\n",
    "files = [f for f in os.listdir(path) if os.path.isfile(os.path.join(path, f))]\n",
    "programs = []\n",
    "\n",
    "for file in files:\n",
    "    # read file\n",
    "    if \"out\" in file:\n",
    "        continue\n",
    "\n",
    "    # read file\n",
    "    with open(path + file, \"r\") as f:\n",
    "        data = f.read()\n",
    "\n",
    "    data = data.split(\"\\n\")\n",
    "    data = [line for line in data if line != \"\"]\n",
    "    task_programs = {}\n",
    "    flag_tasks = False\n",
    "    for line in data:\n",
    "        if \"MISS\" in line or \"HIT\" in line:\n",
    "            programs.append(line)\n",
    "            flag_tasks = True\n",
    "\n",
    "    if not flag_tasks:\n",
    "        print(\"File has no tasks: \", file)\n",
    "\n",
    "\n",
    "print(len(programs))\n",
    "# write programs line by line to file\n",
    "with open(target_path, \"w\") as f:\n",
    "    for i, line in enumerate(programs):\n",
    "        if i == len(programs) - 1:\n",
    "            f.write(line)\n",
    "        else:\n",
    "            f.write(line + \"\\n\")"
   ]
  }
 ],
 "metadata": {
  "kernelspec": {
   "display_name": "base",
   "language": "python",
   "name": "python3"
  },
  "language_info": {
   "codemirror_mode": {
    "name": "ipython",
    "version": 3
   },
   "file_extension": ".py",
   "mimetype": "text/x-python",
   "name": "python",
   "nbconvert_exporter": "python",
   "pygments_lexer": "ipython3",
   "version": "3.8.10"
  },
  "orig_nbformat": 4
 },
 "nbformat": 4,
 "nbformat_minor": 2
}
