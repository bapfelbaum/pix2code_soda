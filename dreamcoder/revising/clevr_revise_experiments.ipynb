{
 "cells": [
  {
   "cell_type": "code",
   "execution_count": null,
   "metadata": {},
   "outputs": [],
   "source": [
    "import dill\n",
    "\n",
    "try:\n",
    "    import binutil\n",
    "except ModuleNotFoundError:\n",
    "    import bin.binutil\n",
    "\n",
    "from dreamcoder.program import *\n",
    "from dreamcoder.domains.relation import *\n",
    "from dreamcoder.domains.relation.relation_primitives import *\n",
    "\n",
    "get_baseline_primitives()\n",
    "get_clevr_primitives()\n",
    "\n",
    "path = \"/workspace/experimentOutputs/clevr_revised/color_count/0/2023-11-04T14:09:18.846576_aic=1.0_arity=3_aux=True_BO=True_CO=True_ES=1_ET=720_HR=0.5_it=15_MF=5_noConsolidation=False_pc=30.0_RS=5000_RT=3600_RR=False_RW=False_solver=ocaml_STM=True_L=1.5_TRR=unsolved_K=2_topkNotMAP=False.pickle\"\n",
    "with open(path, \"rb\") as handle:\n",
    "    result = dill.load(handle)"
   ]
  },
  {
   "cell_type": "code",
   "execution_count": null,
   "metadata": {},
   "outputs": [],
   "source": [
    "# productions: log probability, types, function\n",
    "grammar = result.grammars[-1]\n",
    "print(result.grammars[-1])"
   ]
  },
  {
   "cell_type": "code",
   "execution_count": null,
   "metadata": {},
   "outputs": [],
   "source": [
    "len(result.frontiersOverTime.items())"
   ]
  },
  {
   "cell_type": "code",
   "execution_count": null,
   "metadata": {},
   "outputs": [],
   "source": [
    "invented_programs_string = [\n",
    "    \"(lambda (map (lambda (index 4 $0)) $0))\",\n",
    "    \"(lambda (map (lambda (index 5 $0)) $0))\",\n",
    "    \"(lambda (map (lambda (index 6 $0)) $0))\",\n",
    "    \"(lambda (map (lambda (index 7 $0)) $0))\",\n",
    "]\n",
    "\n",
    "invented_programs = [Invented(Program.parse(s)) for s in invented_programs_string]\n",
    "invented_programs"
   ]
  },
  {
   "cell_type": "code",
   "execution_count": null,
   "metadata": {},
   "outputs": [],
   "source": [
    "likelihood = -0.3\n",
    "\n",
    "# example_list = [[[[[1, 2], [2, 3]]], [1, 2]], [[[[3, 4], [5, 6]]], [1, 2]]]\n",
    "example_list = [[[[[1, 2], [2, 3]]], 1], [[[[3, 4], [5, 6]]], 1]]\n",
    "\n",
    "function_type = guess_arrow_type(example_list)\n",
    "function_type"
   ]
  },
  {
   "cell_type": "code",
   "execution_count": null,
   "metadata": {},
   "outputs": [],
   "source": [
    "e2l = grammar.expression2likelihood\n",
    "primitives = grammar.primitives\n",
    "productions = grammar.productions\n",
    "for p in invented_programs:\n",
    "    e2l[p] = likelihood\n",
    "    grammar.primitives.append(p)\n",
    "    grammar.productions.append((likelihood, function_type, p))\n",
    "\n",
    "grammar.expression2likelihood = e2l\n",
    "\n",
    "grammar.expression2likelihood"
   ]
  },
  {
   "cell_type": "code",
   "execution_count": null,
   "metadata": {},
   "outputs": [],
   "source": [
    "# save checkpoint\n",
    "result.grammars[-1] = grammar\n",
    "with open(path, \"wb\") as handle:\n",
    "    dill.dump(result, handle)"
   ]
  },
  {
   "cell_type": "code",
   "execution_count": null,
   "metadata": {},
   "outputs": [],
   "source": [
    "resume = len(result.grammars) - 1\n",
    "eprint(\"Loaded checkpoint from\", path)\n",
    "grammar = result.grammars[-1] if result.grammars else grammar"
   ]
  },
  {
   "cell_type": "code",
   "execution_count": null,
   "metadata": {},
   "outputs": [],
   "source": [
    "### delete 2 and 5 from grammar (remove confounding)\n",
    "import dill\n",
    "\n",
    "try:\n",
    "    import binutil\n",
    "except ModuleNotFoundError:\n",
    "    import bin.binutil\n",
    "\n",
    "from dreamcoder.program import *\n",
    "from dreamcoder.domains.relation import *\n",
    "from dreamcoder.domains.relation.relation_primitives import *\n",
    "\n",
    "get_baseline_primitives()\n",
    "\n",
    "path = \"/workspace/experimentOutputs/clevr_revised/confounded/0/2024-01-18T21:54:43.280223_aic=1.0_arity=3_aux=True_BO=True_CO=True_ES=1_ET=240_HR=0.5_it=10_MF=5_noConsolidation=False_pc=30.0_RS=5000_RT=3600_RR=False_RW=False_solver=ocaml_STM=True_L=1.5_TRR=unsolved_K=2_topkNotMAP=False.pickle\"\n",
    "with open(path, \"rb\") as handle:\n",
    "    result = dill.load(handle)\n",
    "\n",
    "grammar = result.grammars[-1]\n",
    "print(result.grammars[-1])"
   ]
  },
  {
   "cell_type": "code",
   "execution_count": null,
   "metadata": {},
   "outputs": [],
   "source": [
    "len(result.frontiersOverTime.items())"
   ]
  },
  {
   "cell_type": "code",
   "execution_count": null,
   "metadata": {},
   "outputs": [],
   "source": [
    "frontiers_over_time = result.frontiersOverTime\n",
    "\n",
    "# iterate over dict\n",
    "for task, frontiers in frontiers_over_time.items():\n",
    "    for frontier in frontiers:\n",
    "        print(frontier)\n",
    "        entries_to_remove = []\n",
    "        for entry in frontier:\n",
    "            if \" 9\" in str(entry) or \" 5\" in str(entry):\n",
    "                print(\"remove\", entry)\n",
    "                entries_to_remove.append(entry)\n",
    "        for entry in entries_to_remove:\n",
    "            frontier.entries.remove(entry)\n",
    "    print(\"-----\")\n",
    "result.frontiersOverTime = frontiers_over_time"
   ]
  },
  {
   "cell_type": "code",
   "execution_count": null,
   "metadata": {},
   "outputs": [],
   "source": [
    "task_solutions = result.taskSolutions\n",
    "\n",
    "# iterate over dict\n",
    "for task, frontier in task_solutions.items():\n",
    "    print(frontier)\n",
    "    entries_to_remove = []\n",
    "    for entry in frontier:\n",
    "        if \" 9\" in str(entry) or \" 5\" in str(entry):\n",
    "            print(\"remove\", entry)\n",
    "            entries_to_remove.append(entry)\n",
    "    for entry in entries_to_remove:\n",
    "        frontier.entries.remove(entry)\n",
    "    print(\"-----\")\n",
    "\n",
    "result.taskSolutions = task_solutions"
   ]
  },
  {
   "cell_type": "code",
   "execution_count": null,
   "metadata": {},
   "outputs": [],
   "source": [
    "all_frontiers = result.allFrontiers\n",
    "\n",
    "# iterate over dict\n",
    "for task, frontier in all_frontiers.items():\n",
    "    print(frontier)\n",
    "    entries_to_remove = []\n",
    "    for entry in frontier:\n",
    "        if \" 9\" in str(entry) or \" 5\" in str(entry):\n",
    "            print(\"remove\", entry)\n",
    "            entries_to_remove.append(entry)\n",
    "    for entry in entries_to_remove:\n",
    "        frontier.entries.remove(entry)\n",
    "    print(\"-----\")\n",
    "\n",
    "result.allFrontiers = all_frontiers"
   ]
  },
  {
   "cell_type": "code",
   "execution_count": null,
   "metadata": {},
   "outputs": [],
   "source": [
    "result.recognitionTaskMetrics = {}\n",
    "result.testingSumMaxll"
   ]
  },
  {
   "cell_type": "code",
   "execution_count": null,
   "metadata": {},
   "outputs": [],
   "source": [
    "keys = grammar.expression2likelihood.keys()\n",
    "print(keys)"
   ]
  },
  {
   "cell_type": "code",
   "execution_count": null,
   "metadata": {},
   "outputs": [],
   "source": [
    "grammar.logVariable"
   ]
  },
  {
   "cell_type": "code",
   "execution_count": null,
   "metadata": {},
   "outputs": [],
   "source": [
    "key_list = list(keys).copy()\n",
    "productions_to_remove = []\n",
    "for k in keys:\n",
    "    if \"9\" == str(k) or \" 5\" in str(k) or \"5\" == str(k) or \" 9\" in str(k):\n",
    "        productions_to_remove.append(k)\n",
    "\n",
    "print(productions_to_remove)"
   ]
  },
  {
   "cell_type": "code",
   "execution_count": null,
   "metadata": {},
   "outputs": [],
   "source": [
    "for p in productions_to_remove:\n",
    "    grammar = grammar.removeProductions(productions_to_remove)\n",
    "\n",
    "print(grammar)"
   ]
  },
  {
   "cell_type": "code",
   "execution_count": null,
   "metadata": {},
   "outputs": [],
   "source": [
    "# save checkpoint\n",
    "result.grammars[-1] = grammar\n",
    "with open(path, \"wb\") as handle:\n",
    "    dill.dump(result, handle)"
   ]
  }
 ],
 "metadata": {
  "kernelspec": {
   "display_name": "base",
   "language": "python",
   "name": "python3"
  },
  "language_info": {
   "codemirror_mode": {
    "name": "ipython",
    "version": 3
   },
   "file_extension": ".py",
   "mimetype": "text/x-python",
   "name": "python",
   "nbconvert_exporter": "python",
   "pygments_lexer": "ipython3",
   "version": "3.8.10"
  }
 },
 "nbformat": 4,
 "nbformat_minor": 2
}
